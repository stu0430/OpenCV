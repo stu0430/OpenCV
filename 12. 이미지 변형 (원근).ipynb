{
 "cells": [
  {
   "attachments": {},
   "cell_type": "markdown",
   "metadata": {},
   "source": [
    "#### **12. 이미지 변형 (원근)**"
   ]
  },
  {
   "attachments": {},
   "cell_type": "markdown",
   "metadata": {},
   "source": [
    "##### **사다리꼴 이미지 펼치기**"
   ]
  },
  {
   "cell_type": "code",
   "execution_count": 2,
   "metadata": {},
   "outputs": [],
   "source": [
    "import cv2\n",
    "import numpy as np\n",
    "\n",
    "img = cv2.imread('newspaper.jpg')\n",
    "\n",
    "width, height = 640, 240\n",
    "\n",
    "# 좌상, 우상, 우하, 좌하 (시계 방향)\n",
    "src = np.array([[511, 352], [1008, 345], [1122, 584], [455, 594]], dtype=np.float32) # input 4개 좌표\n",
    "dst = np.array([[0, 0], [width, 0], [width, height], [0, height]], dtype=np.float32) # output 4개 좌표\n",
    "\n",
    "matrix = cv2.getPerspectiveTransform(src, dst) # 원근 변환 행렬 구하기\n",
    "result = cv2.warpPerspective(img, matrix, (width, height)) # 원근 변환 적용\n",
    "\n",
    "cv2.imshow('img', img)\n",
    "cv2.imshow('result', result)\n",
    "\n",
    "cv2.waitKey(0)\n",
    "cv2.destroyAllWindows()"
   ]
  },
  {
   "attachments": {},
   "cell_type": "markdown",
   "metadata": {},
   "source": [
    "##### **회전된 이미지 바르게 세우기**"
   ]
  },
  {
   "cell_type": "code",
   "execution_count": 20,
   "metadata": {},
   "outputs": [],
   "source": [
    "import cv2\n",
    "import numpy as np\n",
    "\n",
    "img = cv2.imread('poker.jpg')\n",
    "\n",
    "width, height = 530, 710\n",
    "\n",
    "src = np.array([[702, 143], [1133, 414], [726, 1007], [276, 700]], dtype=np.float32)\n",
    "dst = np.array([[0, 0], [width, 0], [width, height], [0, height]], dtype=np.float32)\n",
    "\n",
    "matrix = cv2.getPerspectiveTransform(src, dst)\n",
    "result = cv2.warpPerspective(img, matrix, (width, height))\n",
    "\n",
    "cv2.imshow('img', img)\n",
    "cv2.imshow('result', result)\n",
    "\n",
    "cv2.waitKey(0)\n",
    "cv2.destroyAllWindows()"
   ]
  },
  {
   "attachments": {},
   "cell_type": "markdown",
   "metadata": {},
   "source": [
    "##### **반자동 문서 스캐너**"
   ]
  },
  {
   "attachments": {},
   "cell_type": "markdown",
   "metadata": {},
   "source": [
    "###### **마우스 이벤트 등록**"
   ]
  },
  {
   "cell_type": "code",
   "execution_count": 9,
   "metadata": {},
   "outputs": [
    {
     "name": "stdout",
     "output_type": "stream",
     "text": [
      "move\n",
      "2 206\n",
      "move\n",
      "3 206\n",
      "move\n",
      "4 206\n",
      "move\n",
      "8 205\n",
      "move\n",
      "9 205\n",
      "move\n",
      "11 205\n",
      "move\n",
      "16 204\n",
      "move\n",
      "19 204\n",
      "move\n",
      "22 204\n",
      "move\n",
      "23 204\n",
      "move\n",
      "25 204\n",
      "move\n",
      "28 203\n",
      "move\n",
      "29 203\n",
      "move\n",
      "29 203\n"
     ]
    }
   ],
   "source": [
    "import cv2\n",
    "\n",
    "def mouse_handler(event, x, y, flags, param):\n",
    "    if event == cv2.EVENT_LBUTTONDOWN: # 마우스 좌클릭\n",
    "        print('down')\n",
    "        print(x, y)\n",
    "        \n",
    "    elif event == cv2.EVENT_LBUTTONUP: # 마우스에서 손 뗌\n",
    "        print('up')\n",
    "        print(x, y)\n",
    "        \n",
    "    elif event == cv2.EVENT_LBUTTONDBLCLK: # 마우스 좌클릭 더블 클릭\n",
    "        print('double click')\n",
    "        \n",
    "    elif event == cv2.EVENT_MOUSEMOVE: # 마우스 이동\n",
    "        print('move')\n",
    "        print(x, y)\n",
    "        \n",
    "    elif event == cv2.EVENT_RBUTTONDOWN: # 마우스 우클릭\n",
    "        print('right down')\n",
    "        print(x, y)\n",
    "\n",
    "img = cv2.imread('poker.jpg')\n",
    "\n",
    "cv2.namedWindow('img')\n",
    "cv2.setMouseCallback('img', mouse_handler)\n",
    "\n",
    "cv2.imshow('img', img)\n",
    "\n",
    "cv2.waitKey(0)\n",
    "cv2.destroyAllWindows()"
   ]
  },
  {
   "attachments": {},
   "cell_type": "markdown",
   "metadata": {},
   "source": [
    "###### **프로젝트**"
   ]
  },
  {
   "cell_type": "code",
   "execution_count": 31,
   "metadata": {},
   "outputs": [],
   "source": [
    "import cv2\n",
    "import numpy as np\n",
    "\n",
    "COLOR = (0, 0, 0)\n",
    "THICKNESS = 2\n",
    "\n",
    "drawing = False\n",
    "point_list = []\n",
    "\n",
    "src_img = cv2.imread('poker.jpg')\n",
    "src_img = cv2.resize(src_img, None, fx=0.5, fy=0.5)\n",
    "\n",
    "def mouse_handler(event, x, y, flags, param):\n",
    "    global drawing\n",
    "    dst_img = src_img.copy()\n",
    "    \n",
    "    if event == cv2.EVENT_LBUTTONDOWN:        \n",
    "        drawing = True\n",
    "        \n",
    "        point_list.append((x, y))\n",
    "    \n",
    "    if drawing:   \n",
    "        prev_point = None\n",
    "        \n",
    "        for point in point_list:\n",
    "            cv2.circle(dst_img, point, 5, COLOR, cv2.FILLED, cv2.LINE_AA)\n",
    "            \n",
    "            if prev_point:\n",
    "                cv2.line(dst_img, prev_point, point, COLOR, THICKNESS, cv2.LINE_AA)\n",
    "                \n",
    "            prev_point = point\n",
    "            \n",
    "        next_point = (x, y)\n",
    "        \n",
    "        if len(point_list) == 4:\n",
    "            show_result()\n",
    "            next_point = point_list[0]\n",
    "            \n",
    "        cv2.line(dst_img, prev_point, next_point, COLOR, THICKNESS, cv2.LINE_AA)\n",
    "        \n",
    "        \n",
    "    cv2.imshow('img', dst_img)\n",
    "    \n",
    "def show_result():\n",
    "    width, height = 260, 355\n",
    "    \n",
    "    src = np.float32(point_list)\n",
    "    dst = np.array([[0, 0], [width, 0], [width, height], [0, height]], dtype=np.float32)\n",
    "    \n",
    "    matrix = cv2.getPerspectiveTransform(src, dst)\n",
    "    result = cv2.warpPerspective(src_img, matrix, (width, height))\n",
    "    \n",
    "    cv2.imshow('result', result)\n",
    "\n",
    "cv2.namedWindow('img')\n",
    "cv2.setMouseCallback('img', mouse_handler)\n",
    "\n",
    "cv2.imshow('img', src_img)\n",
    "\n",
    "cv2.waitKey(0)\n",
    "cv2.destroyAllWindows()"
   ]
  }
 ],
 "metadata": {
  "kernelspec": {
   "display_name": "base",
   "language": "python",
   "name": "python3"
  },
  "language_info": {
   "codemirror_mode": {
    "name": "ipython",
    "version": 3
   },
   "file_extension": ".py",
   "mimetype": "text/x-python",
   "name": "python",
   "nbconvert_exporter": "python",
   "pygments_lexer": "ipython3",
   "version": "3.9.7"
  },
  "orig_nbformat": 4,
  "vscode": {
   "interpreter": {
    "hash": "ff4f85d6e04298634172ac5d8264e7e9b556b95639fe52ebb9425c4d4cba0c9c"
   }
  }
 },
 "nbformat": 4,
 "nbformat_minor": 2
}

{
 "cells": [
  {
   "attachments": {},
   "cell_type": "markdown",
   "metadata": {},
   "source": [
    "#### **18. 이미지 검출 (윤곽선)**"
   ]
  },
  {
   "attachments": {},
   "cell_type": "markdown",
   "metadata": {},
   "source": [
    "##### **윤곽선 (Contour) : 경계선을 연결한 선**"
   ]
  },
  {
   "cell_type": "code",
   "execution_count": 3,
   "metadata": {},
   "outputs": [],
   "source": [
    "import cv2\n",
    "\n",
    "COLOR = (0, 200, 0)\n",
    "\n",
    "img = cv2.imread('card.png')\n",
    "target_img = img.copy()\n",
    "\n",
    "gray = cv2.cvtColor(img, cv2.COLOR_BGR2GRAY)\n",
    "ret, otsu = cv2.threshold(gray, -1, 255, cv2.THRESH_BINARY | cv2.THRESH_OTSU)\n",
    "\n",
    "# 윤곽선 정보, 구조\n",
    "# 이미지, 검출 방법, 근사화 방법\n",
    "contours, hierarchy = cv2.findContours(otsu, cv2.RETR_LIST, cv2.CHAIN_APPROX_NONE)\n",
    "\n",
    "# 대상 이미지, 윤곽선 정보, 윤곽선 인덱스 (-1은 전체), 색상, 두께\n",
    "cv2.drawContours(target_img, contours, -1, COLOR, 2)\n",
    "\n",
    "cv2.imshow('img', img)\n",
    "cv2.imshow('gray', gray)    \n",
    "cv2.imshow('otsu', otsu)\n",
    "cv2.imshow('contour', target_img)\n",
    "\n",
    "cv2.waitKey(0)\n",
    "cv2.destroyAllWindows()"
   ]
  },
  {
   "attachments": {},
   "cell_type": "markdown",
   "metadata": {},
   "source": [
    "##### **윤곽선 검출 방법**\n",
    "**1. cv2.RETR_EXTERNAL : 가장 외곽의 윤곽선만 찾음**<br>\n",
    "**2. cv2.RETR_LIST : 모든 윤곽선 찾음 (계층 정보 X)**<br>\n",
    "**3. cv2.RETR_TREE : 모든 윤곽선 찾음 (계층 정보를 트리 구조로 생성)**"
   ]
  },
  {
   "cell_type": "code",
   "execution_count": 5,
   "metadata": {},
   "outputs": [],
   "source": [
    "import cv2\n",
    "\n",
    "COLOR = (0, 200, 0)\n",
    "\n",
    "img = cv2.imread('card.png')\n",
    "target_img = img.copy()\n",
    "\n",
    "gray = cv2.cvtColor(img, cv2.COLOR_BGR2GRAY)\n",
    "ret, otsu = cv2.threshold(gray, -1, 255, cv2.THRESH_BINARY | cv2.THRESH_OTSU)\n",
    "\n",
    "# contours, hierarchy = cv2.findContours(otsu, cv2.RETR_LIST, cv2.CHAIN_APPROX_NONE)\n",
    "# contours, hierarchy = cv2.findContours(otsu, cv2.RETR_EXTERNAL, cv2.CHAIN_APPROX_NONE)\n",
    "contours, hierarchy = cv2.findContours(otsu, cv2.RETR_TREE, cv2.CHAIN_APPROX_NONE)\n",
    "\n",
    "cv2.drawContours(target_img, contours, -1, COLOR, 2)\n",
    "\n",
    "cv2.imshow('img', img)\n",
    "cv2.imshow('gray', gray)    \n",
    "cv2.imshow('otsu', otsu)\n",
    "cv2.imshow('contour', target_img)\n",
    "\n",
    "cv2.waitKey(0)\n",
    "cv2.destroyAllWindows()"
   ]
  },
  {
   "attachments": {},
   "cell_type": "markdown",
   "metadata": {},
   "source": [
    "##### **경계 사각형**\n",
    "**윤곽선의 경계면을 둘러싸는 사각형**\n",
    "> **boundingRect()**"
   ]
  },
  {
   "cell_type": "code",
   "execution_count": 9,
   "metadata": {},
   "outputs": [],
   "source": [
    "import cv2\n",
    "\n",
    "COLOR = (0, 200, 0)\n",
    "\n",
    "img = cv2.imread('card.png')\n",
    "target_img = img.copy()\n",
    "\n",
    "gray = cv2.cvtColor(img, cv2.COLOR_BGR2GRAY)\n",
    "ret, otsu = cv2.threshold(gray, -1, 255, cv2.THRESH_BINARY | cv2.THRESH_OTSU)\n",
    "\n",
    "contours, hierarchy = cv2.findContours(otsu, cv2.RETR_LIST, cv2.CHAIN_APPROX_NONE)\n",
    "\n",
    "for cnt in contours:\n",
    "    x, y, width, height = cv2.boundingRect(cnt)\n",
    "    \n",
    "    cv2.rectangle(target_img, (x, y), (x + width, y + height), COLOR, 2)\n",
    "\n",
    "cv2.imshow('img', img)\n",
    "cv2.imshow('contour', target_img)\n",
    "\n",
    "cv2.waitKey(0)\n",
    "cv2.destroyAllWindows()"
   ]
  },
  {
   "attachments": {},
   "cell_type": "markdown",
   "metadata": {},
   "source": [
    "##### **면적**\n",
    "> **contourArea()**"
   ]
  },
  {
   "cell_type": "code",
   "execution_count": 8,
   "metadata": {},
   "outputs": [],
   "source": [
    "import cv2\n",
    "\n",
    "COLOR = (0, 200, 0)\n",
    "\n",
    "img = cv2.imread('card.png')\n",
    "target_img = img.copy()\n",
    "\n",
    "gray = cv2.cvtColor(img, cv2.COLOR_BGR2GRAY)\n",
    "ret, otsu = cv2.threshold(gray, -1, 255, cv2.THRESH_BINARY | cv2.THRESH_OTSU)\n",
    "\n",
    "contours, hierarchy = cv2.findContours(otsu, cv2.RETR_LIST, cv2.CHAIN_APPROX_NONE)\n",
    "\n",
    "for cnt in contours:\n",
    "    if cv2.contourArea(cnt) > 25000:\n",
    "        x, y, width, height = cv2.boundingRect(cnt)\n",
    "        \n",
    "        cv2.rectangle(target_img, (x, y), (x + width, y + height), COLOR, 2)\n",
    "        \n",
    "cv2.imshow('img', img)\n",
    "cv2.imshow('contour', target_img)\n",
    "\n",
    "cv2.waitKey(0)\n",
    "cv2.destroyAllWindows()"
   ]
  },
  {
   "attachments": {},
   "cell_type": "markdown",
   "metadata": {},
   "source": [
    "##### **개별 카드 추출해 파일 저장**"
   ]
  },
  {
   "cell_type": "code",
   "execution_count": 14,
   "metadata": {},
   "outputs": [],
   "source": [
    "import cv2\n",
    "\n",
    "COLOR = (0, 200, 0)\n",
    "\n",
    "img = cv2.imread('card.png')\n",
    "target_img = img.copy()\n",
    "\n",
    "gray = cv2.cvtColor(img, cv2.COLOR_BGR2GRAY)\n",
    "ret, otsu = cv2.threshold(gray, -1, 255, cv2.THRESH_BINARY | cv2.THRESH_OTSU)\n",
    "\n",
    "contours, hierarchy = cv2.findContours(otsu, cv2.RETR_LIST, cv2.CHAIN_APPROX_NONE)\n",
    "\n",
    "idx = 1\n",
    "\n",
    "for cnt in contours:\n",
    "    if cv2.contourArea(cnt) > 25000:\n",
    "        x, y, width, height = cv2.boundingRect(cnt)\n",
    "        \n",
    "        cv2.rectangle(target_img, (x, y), (x + width, y + height), COLOR, 2)\n",
    "        \n",
    "        crop = img[y:y + height, x:x + width]\n",
    "        \n",
    "        cv2.imshow(f'card_crop_{idx}', crop)\n",
    "        \n",
    "        cv2.imwrite(f'card_crop_{idx}.png', crop)\n",
    "        \n",
    "        idx += 1\n",
    "        \n",
    "cv2.imshow('img', img)\n",
    "cv2.imshow('contour', target_img)\n",
    "\n",
    "cv2.waitKey(0)\n",
    "cv2.destroyAllWindows()"
   ]
  }
 ],
 "metadata": {
  "kernelspec": {
   "display_name": "base",
   "language": "python",
   "name": "python3"
  },
  "language_info": {
   "codemirror_mode": {
    "name": "ipython",
    "version": 3
   },
   "file_extension": ".py",
   "mimetype": "text/x-python",
   "name": "python",
   "nbconvert_exporter": "python",
   "pygments_lexer": "ipython3",
   "version": "3.9.7"
  },
  "orig_nbformat": 4,
  "vscode": {
   "interpreter": {
    "hash": "ff4f85d6e04298634172ac5d8264e7e9b556b95639fe52ebb9425c4d4cba0c9c"
   }
  }
 },
 "nbformat": 4,
 "nbformat_minor": 2
}

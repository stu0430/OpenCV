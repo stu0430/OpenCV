{
 "cells": [
  {
   "attachments": {},
   "cell_type": "markdown",
   "metadata": {},
   "source": [
    "#### **11. 이미지 변형 (흐림)**"
   ]
  },
  {
   "attachments": {},
   "cell_type": "markdown",
   "metadata": {},
   "source": [
    "##### **가우시안 블러 (Gaussian Blur)**"
   ]
  },
  {
   "attachments": {},
   "cell_type": "markdown",
   "metadata": {},
   "source": [
    "###### **커널 사이즈 변화에 따른 흐림**"
   ]
  },
  {
   "cell_type": "code",
   "execution_count": 1,
   "metadata": {},
   "outputs": [],
   "source": [
    "import cv2\n",
    "\n",
    "img = cv2.imread('img.jpg')\n",
    "\n",
    "# [3, 3], [5, 5], [7, 7]\n",
    "kernel_3 = cv2.GaussianBlur(img, (3, 3), 0)\n",
    "kernel_5 = cv2.GaussianBlur(img, (5, 5), 0)\n",
    "kernel_7 = cv2.GaussianBlur(img, (7, 7), 0)\n",
    "\n",
    "cv2.imshow('img', img)\n",
    "cv2.imshow('kernel_3', kernel_3)\n",
    "cv2.imshow('kernel_5', kernel_5)\n",
    "cv2.imshow('kernel_7', kernel_7)\n",
    "\n",
    "cv2.waitKey(0)\n",
    "cv2.destroyAllWindows()"
   ]
  },
  {
   "attachments": {},
   "cell_type": "markdown",
   "metadata": {},
   "source": [
    "###### **표준 편차 변화에 따른 흐림**"
   ]
  },
  {
   "cell_type": "code",
   "execution_count": 2,
   "metadata": {},
   "outputs": [],
   "source": [
    "import cv2\n",
    "\n",
    "img = cv2.imread('img.jpg')\n",
    "\n",
    "sigma_1 = cv2.GaussianBlur(img, (0, 0), 1) # sigmaX - 가우시안 커널의 X 방향의 표준편차\n",
    "sigma_2 = cv2.GaussianBlur(img, (0, 0), 2)\n",
    "sigma_3 = cv2.GaussianBlur(img, (0, 0), 3)\n",
    "\n",
    "cv2.imshow('img', img)\n",
    "cv2.imshow('sigma_1', sigma_1)\n",
    "cv2.imshow('sigma_2', sigma_2)\n",
    "cv2.imshow('sigma_3', sigma_3)\n",
    "\n",
    "cv2.waitKey(0)\n",
    "cv2.destroyAllWindows()"
   ]
  }
 ],
 "metadata": {
  "kernelspec": {
   "display_name": "base",
   "language": "python",
   "name": "python3"
  },
  "language_info": {
   "codemirror_mode": {
    "name": "ipython",
    "version": 3
   },
   "file_extension": ".py",
   "mimetype": "text/x-python",
   "name": "python",
   "nbconvert_exporter": "python",
   "pygments_lexer": "ipython3",
   "version": "3.9.7"
  },
  "orig_nbformat": 4,
  "vscode": {
   "interpreter": {
    "hash": "ff4f85d6e04298634172ac5d8264e7e9b556b95639fe52ebb9425c4d4cba0c9c"
   }
  }
 },
 "nbformat": 4,
 "nbformat_minor": 2
}
